{
 "cells": [
  {
   "cell_type": "code",
   "execution_count": 3,
   "metadata": {},
   "outputs": [],
   "source": [
    "import sys\n",
    "import os\n",
    "sys.path.append('/global/u2/c/caditi97/exatrkx-ctd2020')\n",
    "%matplotlib inline\n",
    "import warnings\n",
    "warnings.filterwarnings(\"ignore\")\n",
    "from utils_robust import *"
   ]
  },
  {
   "cell_type": "code",
   "execution_count": 4,
   "metadata": {},
   "outputs": [],
   "source": [
    "# for no ptcut = \"/global/cfs/projectdirs/m3443/usr/aoka/data/artifacts/Training_Example_no_ptcut\"\n",
    "# xiangyang's model = \"/global/cfs/projectdirs/m3443/usr/dtmurnane/artifacts/adjacent/\"\n",
    "# misaligned data = \"/global/cfs/projectdirs/m3443/data/trackml-kaggle/misaligned\"\n",
    "# noise path = f\"/global/cfs/cdirs/m3443/usr/aoka/data/classify/Classify_Example_{noise_keep}/preprocess_raw\"\n",
    "artifact_storage_path = \"/global/cfs/projectdirs/m3443/usr/dtmurnane/artifacts/adjacent/\"\n",
    "best_emb_path = os.path.join(artifact_storage_path, 'metric_learning_emb', 'best_model.pkl')\n",
    "best_filter_path = os.path.join(artifact_storage_path, 'metric_learning_filter', 'best_model.pkl') \n",
    "event_path = \"/global/cfs/projectdirs/m3443/usr/caditi97/exatrkx2020/robust_test/output/misaligned/\"\n",
    "mcm = [\"20\",\"100\",\"400\",\"600\",\"800\",\"1000\"]\n",
    "feature_names = ['x', 'y', 'z', 'cell_count', 'cell_val', 'leta', 'lphi', 'lx', 'ly', 'lz', 'geta', 'gphi']"
   ]
  },
  {
   "cell_type": "code",
   "execution_count": 7,
   "metadata": {},
   "outputs": [
    {
     "name": "stdout",
     "output_type": "stream",
     "text": [
      "Volume 8 layer 6 Misalignment = 20 micrometers\n",
      "noise: 0 number of hits: 45482\n"
     ]
    },
    {
     "name": "stderr",
     "output_type": "stream",
     "text": [
      "100%|██████████| 45482/45482 [02:20<00:00, 322.73it/s]\n"
     ]
    },
    {
     "name": "stdout",
     "output_type": "stream",
     "text": [
      "    0% of doublets filtered\n",
      "   20% of doublets filtered\n",
      "   40% of doublets filtered\n",
      "   60% of doublets filtered\n",
      "   80% of doublets filtered\n",
      "  100% of doublets filtered\n"
     ]
    },
    {
     "name": "stderr",
     "output_type": "stream",
     "text": [
      "7279433it [00:08, 906106.00it/s]\n"
     ]
    },
    {
     "name": "stdout",
     "output_type": "stream",
     "text": [
      "Volume 8 layer 6 Misalignment = 100 micrometers\n",
      "noise: 0 number of hits: 45482\n"
     ]
    },
    {
     "name": "stderr",
     "output_type": "stream",
     "text": [
      "100%|██████████| 45482/45482 [02:21<00:00, 321.35it/s]\n"
     ]
    },
    {
     "name": "stdout",
     "output_type": "stream",
     "text": [
      "    0% of doublets filtered\n",
      "   20% of doublets filtered\n",
      "   40% of doublets filtered\n",
      "   60% of doublets filtered\n",
      "   80% of doublets filtered\n",
      "  100% of doublets filtered\n"
     ]
    },
    {
     "name": "stderr",
     "output_type": "stream",
     "text": [
      "7279445it [00:08, 908949.17it/s]\n"
     ]
    },
    {
     "name": "stdout",
     "output_type": "stream",
     "text": [
      "Volume 8 layer 6 Misalignment = 400 micrometers\n",
      "noise: 0 number of hits: 45482\n"
     ]
    },
    {
     "name": "stderr",
     "output_type": "stream",
     "text": [
      "100%|██████████| 45482/45482 [02:21<00:00, 322.52it/s]\n"
     ]
    },
    {
     "name": "stdout",
     "output_type": "stream",
     "text": [
      "    0% of doublets filtered\n",
      "   20% of doublets filtered\n",
      "   40% of doublets filtered\n",
      "   60% of doublets filtered\n",
      "   80% of doublets filtered\n",
      "  100% of doublets filtered\n"
     ]
    },
    {
     "name": "stderr",
     "output_type": "stream",
     "text": [
      "7279331it [00:07, 927567.55it/s]\n"
     ]
    },
    {
     "name": "stdout",
     "output_type": "stream",
     "text": [
      "Volume 8 layer 6 Misalignment = 600 micrometers\n",
      "noise: 0 number of hits: 45482\n"
     ]
    },
    {
     "name": "stderr",
     "output_type": "stream",
     "text": [
      "100%|██████████| 45482/45482 [02:20<00:00, 322.78it/s]\n"
     ]
    },
    {
     "name": "stdout",
     "output_type": "stream",
     "text": [
      "    0% of doublets filtered\n",
      "   20% of doublets filtered\n",
      "   40% of doublets filtered\n",
      "   60% of doublets filtered\n",
      "   80% of doublets filtered\n",
      "  100% of doublets filtered\n"
     ]
    },
    {
     "name": "stderr",
     "output_type": "stream",
     "text": [
      "7279405it [00:07, 930717.80it/s]\n"
     ]
    },
    {
     "name": "stdout",
     "output_type": "stream",
     "text": [
      "Volume 8 layer 6 Misalignment = 800 micrometers\n",
      "noise: 0 number of hits: 45482\n"
     ]
    },
    {
     "name": "stderr",
     "output_type": "stream",
     "text": [
      "100%|██████████| 45482/45482 [02:20<00:00, 323.27it/s]\n"
     ]
    },
    {
     "name": "stdout",
     "output_type": "stream",
     "text": [
      "    0% of doublets filtered\n",
      "   20% of doublets filtered\n",
      "   40% of doublets filtered\n",
      "   60% of doublets filtered\n",
      "   80% of doublets filtered\n",
      "  100% of doublets filtered\n"
     ]
    },
    {
     "name": "stderr",
     "output_type": "stream",
     "text": [
      "7279559it [00:07, 927590.49it/s]\n"
     ]
    },
    {
     "name": "stdout",
     "output_type": "stream",
     "text": [
      "Volume 8 layer 6 Misalignment = 1000 micrometers\n",
      "noise: 0 number of hits: 45482\n"
     ]
    },
    {
     "name": "stderr",
     "output_type": "stream",
     "text": [
      "100%|██████████| 45482/45482 [02:20<00:00, 323.80it/s]\n"
     ]
    },
    {
     "name": "stdout",
     "output_type": "stream",
     "text": [
      "    0% of doublets filtered\n",
      "   20% of doublets filtered\n",
      "   40% of doublets filtered\n",
      "   60% of doublets filtered\n",
      "   80% of doublets filtered\n",
      "  100% of doublets filtered\n"
     ]
    },
    {
     "name": "stderr",
     "output_type": "stream",
     "text": [
      "7279439it [00:07, 932030.89it/s]\n"
     ]
    }
   ],
   "source": [
    "f_eff = []\n",
    "f_purity = []\n",
    "e_eff = []\n",
    "e_purity = []\n",
    "for mc in mcm:\n",
    "    print(\"Volume 8 layer 6 Misalignment = \" +mc+ \" micrometers\")\n",
    "    event_name = \"event000009900_8_\" +mc+ \".pickle\"\n",
    "    hits, truth, emb_model, filter_model = get_data(best_emb_path, best_filter_path, event_name, event_path)\n",
    "    neighbors = get_emb_neighbors(hits[feature_names].values, emb_model, 0.4)\n",
    "    emb_purity, emb_efficiency = get_emb_eff_purity(hits, truth, neighbors, only_adjacent=True)\n",
    "    idx_pairs, filter_pairs = use_filter(hits, neighbors) \n",
    "    filter_purity, filter_efficiency = get_filter_eff_purity(hits, truth, idx_pairs, filter_pairs)\n",
    "    f_eff.append(filter_efficiency)\n",
    "    f_purity.append(filter_purity)\n",
    "    e_eff.append(emb_efficiency)\n",
    "    e_purity.append(emb_purity)"
   ]
  },
  {
   "cell_type": "code",
   "execution_count": 65,
   "metadata": {},
   "outputs": [],
   "source": [
    "\n",
    "def stat_mean(d):\n",
    "    n = []\n",
    "    for i in d:\n",
    "        n.append(statistics.mean(i))\n",
    "    return n\n",
    "\n",
    "def stat_round(d):\n",
    "    n = []\n",
    "    for i in d:\n",
    "        n.append(round(i,3))\n",
    "    return n\n",
    "\n",
    "f_e = stat_round(f_eff)\n",
    "f_p = stat_round(f_purity)\n",
    "e_e = stat_round(stat_mean(e_eff))\n",
    "e_p = stat_round(stat_mean(e_purity))"
   ]
  },
  {
   "cell_type": "code",
   "execution_count": 66,
   "metadata": {},
   "outputs": [
    {
     "data": {
      "text/plain": [
       "[0.989, 0.989, 0.989, 0.989, 0.989, 0.989]"
      ]
     },
     "execution_count": 66,
     "metadata": {},
     "output_type": "execute_result"
    }
   ],
   "source": [
    "e_e"
   ]
  },
  {
   "cell_type": "code",
   "execution_count": 68,
   "metadata": {},
   "outputs": [
    {
     "data": {
      "image/png": "[encoded data removed]",
      "text/plain": [
       "<Figure size 936x936 with 4 Axes>"
      ]
     },
     "metadata": {
      "needs_background": "light"
     },
     "output_type": "display_data"
    }
   ],
   "source": [
    "f, a = plt.subplots(2,2, figsize=(13,13))\n",
    "x = [int(m) for m in mcm]\n",
    "a[0][0].plot(x,e_p)\n",
    "a[0][0].set_title(\"Embedding Purity\")\n",
    "a[0][0].set_xlabel(\"Misalignment\")\n",
    "a[0][0].set_xticks([20,100,400,600,800,1000])\n",
    "a[0][0].set_ylabel(\"Purity\")\n",
    "\n",
    "a[0][1].plot(x,e_e)\n",
    "a[0][1].set_title(\"Embedding Efficiency\")\n",
    "a[0][1].set_xticks([20,100,400,600,800,1000])\n",
    "a[0][1].set_xlabel(\"Misalignment\")\n",
    "a[0][1].set_ylabel(\"Efficiency\")\n",
    "\n",
    "a[1][0].plot(x,f_p)\n",
    "a[1][0].set_title(\"Filtering Purity\")\n",
    "a[1][0].set_xticks([20,100,400,600,800,1000])\n",
    "a[1][0].set_xlabel(\"Misalignment\")\n",
    "a[1][0].set_ylabel(\"Purity\")\n",
    "\n",
    "a[1][1].plot(x,f_e)\n",
    "a[1][1].set_title(\"Filtering Efficiency\")\n",
    "a[1][1].set_xticks([20,100,400,600,800,1000])\n",
    "a[1][1].set_xlabel(\"Misalignment\")\n",
    "a[1][1].set_ylabel(\"Efficiency\")\n",
    "\n",
    "plt.show()"
   ]
  },
  {
   "cell_type": "code",
   "execution_count": 70,
   "metadata": {},
   "outputs": [
    {
     "name": "stdout",
     "output_type": "stream",
     "text": [
      "noise: 0 number of hits: 45482\n"
     ]
    },
    {
     "name": "stderr",
     "output_type": "stream",
     "text": [
      "100%|██████████| 45482/45482 [02:20<00:00, 322.94it/s]\n"
     ]
    },
    {
     "name": "stdout",
     "output_type": "stream",
     "text": [
      "    0% of doublets filtered\n",
      "   20% of doublets filtered\n",
      "   40% of doublets filtered\n",
      "   60% of doublets filtered\n",
      "   80% of doublets filtered\n",
      "  100% of doublets filtered\n"
     ]
    },
    {
     "name": "stderr",
     "output_type": "stream",
     "text": [
      "7279553it [00:07, 939360.19it/s]\n"
     ]
    }
   ],
   "source": [
    "ev_n = \"event000009900.pickle\"\n",
    "hits_o, truth_o, emb_model, filter_model = get_data(best_emb_path, best_filter_path, ev_n, event_path)\n",
    "nbrs = get_emb_neighbors(hits_o[feature_names].values, emb_model, 0.4)\n",
    "emb_p_o, emb_e_o = get_emb_eff_purity(hits_o, truth_o, nbrs, only_adjacent=True)\n",
    "idx_pairs_o, filter_pairs_o = use_filter(hits_o, nbrs) \n",
    "f_p_o, f_e_o = get_filter_eff_purity(hits_o, truth_o, idx_pairs_o, filter_pairs_o)"
   ]
  },
  {
   "cell_type": "code",
   "execution_count": 85,
   "metadata": {},
   "outputs": [
    {
     "data": {
      "text/plain": [
       "0.988658374477782"
      ]
     },
     "execution_count": 85,
     "metadata": {},
     "output_type": "execute_result"
    }
   ],
   "source": [
    "emb_eff_o = statistics.mean(emb_e_o)\n",
    "emb_eff_o"
   ]
  },
  {
   "cell_type": "code",
   "execution_count": 86,
   "metadata": {},
   "outputs": [],
   "source": [
    "e0 = np.zeros(len(e_e)) + emb_eff_o\n",
    "obs_eff_loss = e0 - stat_mean(e_eff)"
   ]
  },
  {
   "cell_type": "code",
   "execution_count": 87,
   "metadata": {},
   "outputs": [
    {
     "data": {
      "text/plain": [
       "array([ 0.00000000e+00,  0.00000000e+00,  0.00000000e+00,  0.00000000e+00,\n",
       "        0.00000000e+00, -1.58247879e-05])"
      ]
     },
     "execution_count": 87,
     "metadata": {},
     "output_type": "execute_result"
    }
   ],
   "source": [
    "obs_eff_loss"
   ]
  },
  {
   "cell_type": "code",
   "execution_count": null,
   "metadata": {},
   "outputs": [],
   "source": []
  }
 ],
 "metadata": {
  "kernelspec": {
   "display_name": "Python [conda env:.conda-exatrkx]",
   "language": "python",
   "name": "conda-env-.conda-exatrkx-py"
  },
  "language_info": {
   "codemirror_mode": {
    "name": "ipython",
    "version": 3
   },
   "file_extension": ".py",
   "mimetype": "text/x-python",
   "name": "python",
   "nbconvert_exporter": "python",
   "pygments_lexer": "ipython3",
   "version": "3.7.7"
  }
 },
 "nbformat": 4,
 "nbformat_minor": 4
}
